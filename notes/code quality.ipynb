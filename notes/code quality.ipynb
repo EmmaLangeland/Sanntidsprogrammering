{
 "cells": [
  {
   "cell_type": "markdown",
   "metadata": {},
   "source": [
    "Forelesning 22.01.25\n"
   ]
  },
  {
   "cell_type": "markdown",
   "metadata": {},
   "source": [
    "headlines is appreciated, what it does, not how. \n",
    "\n",
    "comments that explains code should be avoided"
   ]
  }
 ],
 "metadata": {
  "language_info": {
   "name": "python"
  }
 },
 "nbformat": 4,
 "nbformat_minor": 2
}
